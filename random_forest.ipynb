{
 "cells": [
  {
   "cell_type": "code",
   "execution_count": 234,
   "metadata": {},
   "outputs": [],
   "source": [
    "import pandas as pd\n",
    "import numpy as np\n",
    "\n",
    "data_with_infertility_path = \"./data/PCOS_infertility.csv\"\n",
    "data_without_infertility_path = \"./data/PCOS_data_without_infertility.xlsx\"\n",
    "df_infertility = pd.read_csv(data_with_infertility_path)\n",
    "df_fertility = pd.read_excel(data_without_infertility_path, sheet_name=\"Full_new\")"
   ]
  },
  {
   "attachments": {},
   "cell_type": "markdown",
   "id": "bceb3f8f",
   "metadata": {},
   "source": [
    "#### We have been provided two datasets. If the 2nd dataset has more information, we need to include that as well. Compare the values of each columns for 2 available datasets i.e., with infertility and without infertility\n",
    "#### If they are equal then just consider the data with fertility because the this data contains the data from infertility as well as extra data\n"
   ]
  },
  {
   "cell_type": "code",
   "execution_count": 235,
   "id": "6430839a",
   "metadata": {},
   "outputs": [
    {
     "name": "stdout",
     "output_type": "stream",
     "text": [
      "The columns where values do not match are: ['II_beta_hcg']\n"
     ]
    }
   ],
   "source": [
    "pcos = df_fertility[\"PCOS (Y/N)\"].equals(df_infertility[\"PCOS (Y/N)\"])\n",
    "I_beta_hcg = df_fertility[\"  I   beta-HCG(mIU/mL)\"].equals(df_infertility[\"  I   beta-HCG(mIU/mL)\"])\n",
    "II_beta_hcg = df_fertility[\"II    beta-HCG(mIU/mL)\"] .equals(df_infertility[\"II    beta-HCG(mIU/mL)\"])\n",
    "\n",
    "# Converting AMH column of fertility data to match the datatype for equals comparison\n",
    "df_fertility[\"AMH(ng/mL)\"] = df_fertility[\"AMH(ng/mL)\"].astype(\"str\", copy=False)\n",
    "amh = df_fertility[\"AMH(ng/mL)\"].equals(df_infertility[\"AMH(ng/mL)\"])\n",
    "\n",
    "comparison_features = {\"pcos\":pcos, \n",
    "                        \"I_beta_hcg\": I_beta_hcg, \n",
    "                        \"II_beta_hcg\": II_beta_hcg, \n",
    "                        \"amh\": amh\n",
    "                        }\n",
    "\n",
    "conflicts_in = [k for k, v in comparison_features.items() if not v]\n",
    "if len(conflicts_in):\n",
    "    print(f\"The columns where values do not match are: {conflicts_in}\")\n",
    "else:\n",
    "    df = df_fertility\n",
    "    print(\"All the data in all given columns are same\")\n",
    "\n"
   ]
  },
  {
   "attachments": {},
   "cell_type": "markdown",
   "id": "b15fab64",
   "metadata": {},
   "source": [
    "#### Checking which rows of the mentioned columns have different data and what are they"
   ]
  },
  {
   "cell_type": "code",
   "execution_count": 236,
   "id": "4a09b9e8",
   "metadata": {},
   "outputs": [
    {
     "name": "stdout",
     "output_type": "stream",
     "text": [
      "For column II    beta-HCG(mIU/mL), row 123, the fertility dataset value 1.99. differs from the infertility dataset value 0.110416667\n"
     ]
    }
   ],
   "source": [
    "def find_differences(fertility_col, infertility_col):\n",
    "    info = list()\n",
    "    # info.append([\"row\", \"fertility data value\", \"infertility data value\"])\n",
    "    for i, v in enumerate(infertility_col):\n",
    "        if fertility_col[i] != v:\n",
    "            info.append([i, fertility_col[i], v])\n",
    "    return info, fertility_col.name\n",
    "\n",
    "\n",
    "II_beta_hcg_info, II_beta_hcg_col_name = find_differences(df_fertility[\"II    beta-HCG(mIU/mL)\"], df_infertility[\"II    beta-HCG(mIU/mL)\"])\n",
    "for i in II_beta_hcg_info:\n",
    "    print(f'For column {II_beta_hcg_col_name}, row {i[0]}, the fertility dataset value {i[1]} differs from the infertility dataset value {i[2]}')\n"
   ]
  },
  {
   "attachments": {},
   "cell_type": "markdown",
   "id": "540a9765",
   "metadata": {},
   "source": [
    "#### Replacing the value by averaging the column values of \"II beta-HCG(mIU/mL)\" where pcos is 1"
   ]
  },
  {
   "cell_type": "code",
   "execution_count": 237,
   "id": "02d96efc",
   "metadata": {},
   "outputs": [],
   "source": [
    "df_fertility.at[123, \"II    beta-HCG(mIU/mL)\"] = np.NaN\n",
    "req_vals_for_hcg_ii = [df_fertility.at[x, \"II    beta-HCG(mIU/mL)\"] for x in range(len(df_fertility[\"II    beta-HCG(mIU/mL)\"])) if df_fertility.at[x, \"PCOS (Y/N)\"] == df_fertility.at[123, \"PCOS (Y/N)\"]]\n",
    "df_fertility.at[123, \"II    beta-HCG(mIU/mL)\"] = np.nanmean(req_vals_for_hcg_ii)"
   ]
  },
  {
   "attachments": {},
   "cell_type": "markdown",
   "id": "d5d9c64c",
   "metadata": {},
   "source": [
    "#### Now we can set our default data frame as df_fertility"
   ]
  },
  {
   "cell_type": "code",
   "execution_count": 238,
   "metadata": {},
   "outputs": [],
   "source": [
    "df = df_fertility\n",
    "# Drop column \"Unnamed: 44\"\n",
    "df = df.drop(columns=[\"Unnamed: 44\"])\n",
    "pd.set_option('display.max_columns', None)"
   ]
  },
  {
   "attachments": {},
   "cell_type": "markdown",
   "id": "b8db719b",
   "metadata": {},
   "source": [
    "#### Checking for null, nan and blank values"
   ]
  },
  {
   "cell_type": "code",
   "execution_count": 241,
   "id": "e5169345",
   "metadata": {},
   "outputs": [
    {
     "name": "stdout",
     "output_type": "stream",
     "text": [
      "(array([], dtype=int64), array([], dtype=int64))\n"
     ]
    },
    {
     "ename": "IndexError",
     "evalue": "list index out of range",
     "output_type": "error",
     "traceback": [
      "\u001b[0;31m---------------------------------------------------------------------------\u001b[0m",
      "\u001b[0;31mIndexError\u001b[0m                                Traceback (most recent call last)",
      "\u001b[0;32m/var/folders/pj/s_0zn8_56_g19q6c11mctyp40000gn/T/ipykernel_18286/361734708.py\u001b[0m in \u001b[0;36m<module>\u001b[0;34m\u001b[0m\n\u001b[1;32m      5\u001b[0m \u001b[0;34m\u001b[0m\u001b[0m\n\u001b[1;32m      6\u001b[0m \u001b[0mprint\u001b[0m\u001b[0;34m(\u001b[0m\u001b[0mnull_vals\u001b[0m\u001b[0;34m)\u001b[0m\u001b[0;34m\u001b[0m\u001b[0;34m\u001b[0m\u001b[0m\n\u001b[0;32m----> 7\u001b[0;31m \u001b[0mprint\u001b[0m\u001b[0;34m(\u001b[0m\u001b[0mlist\u001b[0m\u001b[0;34m(\u001b[0m\u001b[0mnull_vals\u001b[0m\u001b[0;34m[\u001b[0m\u001b[0;36m0\u001b[0m\u001b[0;34m]\u001b[0m\u001b[0;34m)\u001b[0m\u001b[0;34m[\u001b[0m\u001b[0;36m0\u001b[0m\u001b[0;34m]\u001b[0m\u001b[0;34m)\u001b[0m\u001b[0;34m\u001b[0m\u001b[0;34m\u001b[0m\u001b[0m\n\u001b[0m\u001b[1;32m      8\u001b[0m \u001b[0mprint\u001b[0m\u001b[0;34m(\u001b[0m\u001b[0mlist\u001b[0m\u001b[0;34m(\u001b[0m\u001b[0mnull_vals\u001b[0m\u001b[0;34m[\u001b[0m\u001b[0;36m1\u001b[0m\u001b[0;34m]\u001b[0m\u001b[0;34m)\u001b[0m\u001b[0;34m[\u001b[0m\u001b[0;36m0\u001b[0m\u001b[0;34m]\u001b[0m\u001b[0;34m)\u001b[0m\u001b[0;34m\u001b[0m\u001b[0;34m\u001b[0m\u001b[0m\n\u001b[1;32m      9\u001b[0m \u001b[0ml\u001b[0m \u001b[0;34m=\u001b[0m \u001b[0;34m[\u001b[0m\u001b[0;34m]\u001b[0m\u001b[0;34m\u001b[0m\u001b[0;34m\u001b[0m\u001b[0m\n",
      "\u001b[0;31mIndexError\u001b[0m: list index out of range"
     ]
    }
   ],
   "source": [
    "null_vals = np.where(pd.isna(df))\n",
    "na_vals = df[df.isna().any(axis=1)]\n",
    "\n",
    "cols_with_nan = [df.columns[x] for x in list(null_vals[1])]\n",
    "\n",
    "print(null_vals)\n",
    "print(list(null_vals[0])[0])\n",
    "print(list(null_vals[1])[0])\n",
    "# na_vals\n"
   ]
  },
  {
   "attachments": {},
   "cell_type": "markdown",
   "id": "319ae384",
   "metadata": {},
   "source": [
    "#### Now that we know that 'Fast food (Y/N)' and 'Marraige Status (Yrs)' column has the nan values, we work on eliminating or replacing it."
   ]
  },
  {
   "cell_type": "code",
   "execution_count": 240,
   "id": "854c29aa",
   "metadata": {},
   "outputs": [
    {
     "name": "stdout",
     "output_type": "stream",
     "text": [
      "13 35\n",
      "5.5\n",
      "0.5\n"
     ]
    }
   ],
   "source": [
    "# df[\"Fast food (Y/N)\"] = df[\"Fast food (Y/N)\"].fillna(df[\"Fast food (Y/N)\"].mean())\n",
    "# df[\"Marraige Status (Yrs)\"] = df[\"Marraige Status (Yrs)\"].fillna(df[\"Marraige Status (Yrs)\"].mean())\n",
    "df[\"Fast food (Y/N)\"] = df[\"Fast food (Y/N)\"].interpolate(method='linear', axis=0).ffill().bfill()\n",
    "df[\"Marraige Status (Yrs)\"] = df[\"Marraige Status (Yrs)\"].interpolate(method='linear', axis=0).ffill().bfill()\n",
    "na_vals1 = df[df.isna().any(axis=1)]\n",
    "col1_idx = df.columns.get_loc(\"Marraige Status (Yrs)\")\n",
    "col2_idx = df.columns.get_loc(\"Fast food (Y/N)\")\n",
    "print(col1_idx, col2_idx)\n",
    "# See the new values for Nan\n",
    "print(df.iloc[458, 13])\n",
    "print(df.iloc[156, 35])"
   ]
  },
  {
   "cell_type": "code",
   "execution_count": null,
   "metadata": {},
   "outputs": [],
   "source": []
  }
 ],
 "metadata": {
  "kernelspec": {
   "display_name": "base",
   "language": "python",
   "name": "python3"
  },
  "language_info": {
   "codemirror_mode": {
    "name": "ipython",
    "version": 3
   },
   "file_extension": ".py",
   "mimetype": "text/x-python",
   "name": "python",
   "nbconvert_exporter": "python",
   "pygments_lexer": "ipython3",
   "version": "3.9.13"
  },
  "vscode": {
   "interpreter": {
    "hash": "fcc3890173e1c797621a86748a908684ef000f574832c4d55621206fac903461"
   }
  }
 },
 "nbformat": 4,
 "nbformat_minor": 5
}
